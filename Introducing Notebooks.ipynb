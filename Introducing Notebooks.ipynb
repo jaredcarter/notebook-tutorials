{
 "cells": [
  {
   "cell_type": "markdown",
   "id": "a26049ca",
   "metadata": {},
   "source": [
    "[![Binder](https://mybinder.org/badge_logo.svg)](https://mybinder.org/v2/gh/jaredcarter/notebook-tutorials/main?labpath=Introducing%20Notebooks.ipynb)\n",
    "# Exploring Jupyter: Notebooks for teaching and learning Python\n",
    "\n",
    "Jupyter Notebooks, like this one can be used to tell a story or teach a topic by combining text explainations with code that you can run.\n",
    "In this tutorial we will walk through the major features of Jupyter notebooks, write our own code + documentation, and investigate a few different options for using Jupyter Notebooks in the classroom.\n",
    "\n",
    "## Main Idea\n",
    "\n",
    "Jupyter notebooks are interactive, displayed in a web browser, and consist of cells that can contain Markdown text or  Python code.\n",
    "Code is excecuted by the kernel which then inserts the output into the notebook.\n",
    "The kernel can run on your computer or in the cloud.\n",
    "\n",
    "## Goals\n",
    "- Open a Jupyter Notebook\n",
    "- Type formatted text in Markdown\n",
    "- Execute print statements and basic math in Python\n",
    "- Investigate basic Notebook features including help, code auto-completion, and restarting the kernel\n",
    "- Compare and contrast local and cloud based options for Jupyter Notebooks\n",
    "\n",
    "## Opening a Jupyter Notebook\n",
    "\n",
    "There are a few different ways to open a Jupyter notebook\n",
    "\n",
    "<div class=\"alert alert-block alert-info\">\n",
    "    <b>Try it!</b> Click on the cell below, then press <tt>Shift+Enter</tt> to execute it\n",
    "</div>"
   ]
  },
  {
   "cell_type": "code",
   "execution_count": null,
   "id": "f9b89607",
   "metadata": {},
   "outputs": [],
   "source": [
    "print(\"Hello, World!\")"
   ]
  },
  {
   "cell_type": "code",
   "execution_count": null,
   "id": "bf425963",
   "metadata": {},
   "outputs": [],
   "source": []
  }
 ],
 "metadata": {
  "kernelspec": {
   "display_name": "Python 3 (ipykernel)",
   "language": "python",
   "name": "python3"
  },
  "language_info": {
   "codemirror_mode": {
    "name": "ipython",
    "version": 3
   },
   "file_extension": ".py",
   "mimetype": "text/x-python",
   "name": "python",
   "nbconvert_exporter": "python",
   "pygments_lexer": "ipython3",
   "version": "3.9.12"
  }
 },
 "nbformat": 4,
 "nbformat_minor": 5
}
