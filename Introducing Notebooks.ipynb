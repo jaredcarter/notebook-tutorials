{
 "cells": [
  {
   "cell_type": "markdown",
   "id": "a26049ca",
   "metadata": {},
   "source": [
    "[![Binder](https://mybinder.org/badge_logo.svg)](https://mybinder.org/v2/gh/jaredcarter/notebook-tutorials/main?labpath=Introducing%20Notebooks.ipynb)\n",
    "# Exploring Jupyter: Notebooks for teaching and learning Python\n",
    "\n",
    "Jupyter Notebooks, like this one can be used to tell a story or teach a topic by combining text explainations with code that you can run.\n",
    "In this tutorial we will walk through the major features of Jupyter notebooks, write our own code + documentation, and investigate a few different options for using Jupyter Notebooks in the classroom.\n",
    "\n",
    "## Main Idea\n",
    "\n",
    "Jupyter notebooks are interactive, displayed in a web browser, and consist of cells that can contain Markdown text or  Python code.\n",
    "Code is excecuted by the kernel which then inserts the output into the notebook.\n",
    "The kernel can run on your computer or in the cloud.\n",
    "\n",
    "## Goals\n",
    "- Open a Jupyter Notebook\n",
    "- Type formatted text in Markdown\n",
    "- Execute print statements and basic math in Python\n",
    "- Investigate basic Notebook features including help, code auto-completion, and restarting the kernel\n",
    "- Compare and contrast local and cloud based options for Jupyter Notebooks\n",
    "\n",
    "## Opening a Jupyter Notebook\n",
    "\n",
    "There are a few different ways to open a Jupyter notebook\n",
    "\n",
    "<div class=\"alert alert-block alert-info\">\n",
    "    <b>Try it!</b> Click on the cell below, then press <tt>Shift+Enter</tt> to execute it\n",
    "</div>"
   ]
  },
  {
   "cell_type": "code",
   "execution_count": null,
   "id": "f9b89607",
   "metadata": {},
   "outputs": [],
   "source": [
    "print(\"Hello, World!\")"
   ]
  },
  {
   "cell_type": "markdown",
   "id": "9763e5b3",
   "metadata": {},
   "source": [
    "If the cell above this one executed then you should see a number inside the brackets to the left of the cell like so: `In [1]`. If that didn't happen for you please let me know and we will get it to work on your machine.\n",
    "\n",
    "## Typing Markdown text in a Jupyter Notebook\n",
    "\n",
    "```python\n",
    "# instead of using comments like this to tell others how your code works,\n",
    "# you can use Markdown to type richly formatted text\n",
    "```\n",
    "When you want to change the appearance of text in Word, you highlight the text and select the formatting.\n",
    "In Markdown, you just use a few characters to tell Jupyter how you want your text to look.\n",
    "Here are just a few examples of the things you can do:\n",
    "\n",
    "You can type headings using the `#` symbol like this:\n",
    "```Markdown\n",
    "# Heading\n",
    "## Sub-heading\n",
    "### Sub-Sub-heading\n",
    "```\n",
    "and they get converted to this:\n",
    "# Heading\n",
    "## Sub-heading\n",
    "### Sub-Sub-heading\n",
    "\n",
    "Here is how to make italic or bold text:\n",
    "```Markdown\n",
    "This is how you can *italicize* or **bold** text.\n",
    "```\n",
    "and this is what it looks like:\n",
    "\n",
    "This is how you can *italicize* or **bold** text.\n",
    "\n",
    "\n",
    "Pictures are a little tricky, but they can be super helpful for explaining concepts in a notebook.\n",
    "Here is the syntax: `![ ]( )`.\n",
    "The alternate text, or words that describe your image, go inside the square brackets, and the URL of your image goes in the parentheses.\n",
    "For example,\n",
    "```Markdown\n",
    "![Okaloosa school district logo](https://www.okaloosaschools.com/files/logo.png)\n",
    "```\n",
    "will look like this:\n",
    "![Okaloosa school district logo](https://www.okaloosaschools.com/files/logo.png)\n",
    "\n",
    "There are many other things you can do in Markdown!\n",
    "For more help, go to the toolbar at the top and select `Help > Markdown`\n",
    "\n",
    "<div class=\"alert alert-block alert-info\">\n",
    "    <b>Try it!</b> Click on the cell below, then in the toolbar at the top of the page click <tt>Cell > Cell Type > Markdown</tt> to change it to a Markdown cell.\n",
    "</div>"
   ]
  },
  {
   "cell_type": "code",
   "execution_count": null,
   "id": "65c85a90",
   "metadata": {},
   "outputs": [],
   "source": []
  },
  {
   "cell_type": "markdown",
   "id": "9da69594",
   "metadata": {},
   "source": [
    "## Python + Jupyter Basics\n",
    "Just like in Python, you can declare variables and do math in Python cells. Variables can be used in multiple cells, so it's important to run code from top to bottom in a notebook"
   ]
  },
  {
   "cell_type": "code",
   "execution_count": null,
   "id": "b3a92834",
   "metadata": {},
   "outputs": [],
   "source": [
    "a = 40\n",
    "b = 2\n",
    "# if you put a variable by itself on the last line, Jupyter will print it!\n",
    "a"
   ]
  },
  {
   "cell_type": "code",
   "execution_count": null,
   "id": "40e756a4",
   "metadata": {},
   "outputs": [],
   "source": [
    "# Variables persist between cells, but only the last line will be printed as output\n",
    "a / b\n",
    "a + b"
   ]
  },
  {
   "cell_type": "markdown",
   "id": "6eec847b",
   "metadata": {},
   "source": [
    "You can save yourself from typographical errors by pressing the `Tab` key after typing a few characters to autocomplete the rest.\n",
    "If there's more than one option then you can select between them.\n",
    "<div class=\"alert alert-block alert-info\">\n",
    "    <b>Try it!</b> Try to autocomplete one of the variable names in the cell below.\n",
    "</div>"
   ]
  },
  {
   "cell_type": "code",
   "execution_count": null,
   "id": "e2e34bd3",
   "metadata": {},
   "outputs": [],
   "source": [
    "my_really_long_variable = 3.14159\n",
    "my_other_long_variable = 51\n",
    "my"
   ]
  },
  {
   "cell_type": "markdown",
   "id": "1176993d",
   "metadata": {},
   "source": [
    "If you forget how to use a function, you can press `Shift+Tab` once or twice to get a little or a lot of help.\n",
    "You can also type `function_name?` for even more detailed help.\n",
    "<div class=\"alert alert-block alert-info\">\n",
    "    <b>Try it!</b> Try to get help with the range function in the cell below.\n",
    "</div>"
   ]
  },
  {
   "cell_type": "code",
   "execution_count": null,
   "id": "3ec29987",
   "metadata": {},
   "outputs": [],
   "source": [
    "range"
   ]
  },
  {
   "cell_type": "markdown",
   "id": "856726db",
   "metadata": {},
   "source": [
    "## Restarting the Kernel\n",
    "Sometimes, things will go wrong on your computer or your students'.\n",
    "An easy thing to try in order to fix the issue is to \"Restart the Kernel\".\n",
    "This is a good thing to try when you don't notice anything obviously wrong with the code.\n",
    "To restart the Kernel, go to toolbar and select `Kernel > Restart`."
   ]
  }
 ],
 "metadata": {
  "kernelspec": {
   "display_name": "Python 3 (ipykernel)",
   "language": "python",
   "name": "python3"
  },
  "language_info": {
   "codemirror_mode": {
    "name": "ipython",
    "version": 3
   },
   "file_extension": ".py",
   "mimetype": "text/x-python",
   "name": "python",
   "nbconvert_exporter": "python",
   "pygments_lexer": "ipython3",
   "version": "3.9.12"
  }
 },
 "nbformat": 4,
 "nbformat_minor": 5
}
